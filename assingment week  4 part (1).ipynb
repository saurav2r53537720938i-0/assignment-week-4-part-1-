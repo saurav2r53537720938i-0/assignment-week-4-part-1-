{
 "cells": [
  {
   "cell_type": "code",
   "execution_count": 7,
   "id": "3b982791-a6c5-4007-ae55-2b2fb4550272",
   "metadata": {},
   "outputs": [],
   "source": [
    "class Vehicle:\n",
    "    def __init__(self,name,max_speed,average_speed):\n",
    "        self.name = name\n",
    "        self.max_speed = max_speed\n",
    "        self.average_speed = average_speed\n",
    "    "
   ]
  },
  {
   "cell_type": "code",
   "execution_count": 9,
   "id": "e7708637-3cd7-44b3-9f6d-2c2f1078c45c",
   "metadata": {},
   "outputs": [],
   "source": [
    "car = Vehicle(name = \"car\",max_speed = 200,average_speed = 60)"
   ]
  },
  {
   "cell_type": "code",
   "execution_count": 10,
   "id": "8b289b3b-3b56-47cf-a6eb-f395006e85c0",
   "metadata": {},
   "outputs": [],
   "source": [
    "class Car(Vehicle):\n",
    "    def SeatingCapacity(self,capacity):\n",
    "        return f\"{self.name} has a seating capacity of {capacity}.\""
   ]
  },
  {
   "cell_type": "code",
   "execution_count": 11,
   "id": "04fb1b5a-9bf9-4df3-bf17-03400cc03160",
   "metadata": {},
   "outputs": [],
   "source": [
    "car_instance = Car(name = \"sedan\", max_speed = 180,average_speed = 50)"
   ]
  },
  {
   "cell_type": "code",
   "execution_count": 12,
   "id": "631a133a-7340-41dd-a3f0-4898576ae841",
   "metadata": {},
   "outputs": [],
   "source": [
    "seating_capacity_info = car_instance.SeatingCapacity(capacity = 5)"
   ]
  },
  {
   "cell_type": "code",
   "execution_count": 14,
   "id": "16a71d90-5af5-414d-9d18-e71968f1d9fa",
   "metadata": {},
   "outputs": [
    {
     "name": "stdout",
     "output_type": "stream",
     "text": [
      "sedan has a seating capacity of 5.\n"
     ]
    }
   ],
   "source": [
    "print(seating_capacity_info)"
   ]
  },
  {
   "cell_type": "code",
   "execution_count": 15,
   "id": "c4b8c947-e0bd-4d19-aa97-b0122c0c0524",
   "metadata": {},
   "outputs": [],
   "source": [
    "class Engine:\n",
    "    def start(self):\n",
    "        return \"Engine started\""
   ]
  },
  {
   "cell_type": "code",
   "execution_count": 16,
   "id": "386134b8-cdcc-4ac6-8152-03cec8303e92",
   "metadata": {},
   "outputs": [],
   "source": [
    "class ElectricMotor:\n",
    "    def charge(self):\n",
    "        return \"Electric motor charged\""
   ]
  },
  {
   "cell_type": "code",
   "execution_count": 17,
   "id": "ae454988-6d82-40cc-a6d3-2b4697b3bd48",
   "metadata": {},
   "outputs": [],
   "source": [
    "class HybridCar(Engine,ElectricMotor):\n",
    "    def drive(self):\n",
    "        return \"Hybrid car is driving\""
   ]
  },
  {
   "cell_type": "code",
   "execution_count": 18,
   "id": "9112408d-6b72-49cd-a1e9-8b39c526d335",
   "metadata": {},
   "outputs": [],
   "source": [
    "hybrid_car = HybridCar()"
   ]
  },
  {
   "cell_type": "code",
   "execution_count": 20,
   "id": "01df72de-d2d6-43b8-b627-8840334e6e5d",
   "metadata": {},
   "outputs": [],
   "source": [
    "start_message = hybrid_car.start()"
   ]
  },
  {
   "cell_type": "code",
   "execution_count": 21,
   "id": "1399a0a3-0b7a-4298-9f00-8d48018a336b",
   "metadata": {},
   "outputs": [],
   "source": [
    "charge_message = hybrid_car.charge()"
   ]
  },
  {
   "cell_type": "code",
   "execution_count": 22,
   "id": "b71aa5a6-e75f-4275-bffd-defb56125646",
   "metadata": {},
   "outputs": [],
   "source": [
    "drive_message = hybrid_car.drive()"
   ]
  },
  {
   "cell_type": "code",
   "execution_count": 23,
   "id": "516227d3-566f-4dbc-a78d-730ac4b777d6",
   "metadata": {},
   "outputs": [
    {
     "name": "stdout",
     "output_type": "stream",
     "text": [
      "Engine started\n"
     ]
    }
   ],
   "source": [
    "print(start_message)"
   ]
  },
  {
   "cell_type": "code",
   "execution_count": 24,
   "id": "f8e3baf0-2492-44c8-96df-14eba51f8910",
   "metadata": {},
   "outputs": [
    {
     "name": "stdout",
     "output_type": "stream",
     "text": [
      "Electric motor charged\n"
     ]
    }
   ],
   "source": [
    "print(charge_message)"
   ]
  },
  {
   "cell_type": "code",
   "execution_count": 25,
   "id": "fe1e4f95-e4a9-489f-af02-3d73223783f2",
   "metadata": {},
   "outputs": [
    {
     "name": "stdout",
     "output_type": "stream",
     "text": [
      "Hybrid car is driving\n"
     ]
    }
   ],
   "source": [
    "print(drive_message)"
   ]
  },
  {
   "cell_type": "code",
   "execution_count": 37,
   "id": "cfb2880d-7360-4679-bbd9-ea26053bcff2",
   "metadata": {},
   "outputs": [],
   "source": [
    "class Rectangle:\n",
    "    def __init__(self,widh,height):\n",
    "        self.widh = width #prefixing with '_' indicates it's a protected variable\n",
    "        self.height = height"
   ]
  },
  {
   "cell_type": "markdown",
   "id": "059e5ab1-a5a8-47f4-8a3e-4c0303ee3d1b",
   "metadata": {},
   "source": [
    "# getter method for width"
   ]
  },
  {
   "cell_type": "code",
   "execution_count": 38,
   "id": "373e3dc7-7bac-44ea-ba88-802dccc6f987",
   "metadata": {},
   "outputs": [],
   "source": [
    "def get_width(self):\n",
    "    return self._width"
   ]
  },
  {
   "cell_type": "markdown",
   "id": "ddeed2ea-4edc-459e-9aea-d36870bf4505",
   "metadata": {},
   "source": [
    "# setter method for width"
   ]
  },
  {
   "cell_type": "code",
   "execution_count": 39,
   "id": "5529a52d-04bf-48b9-9b94-051ded39614f",
   "metadata": {},
   "outputs": [],
   "source": [
    "def set_width(self,width):\n",
    "    if width>0:\n",
    "        self._width = width\n",
    "    else :\n",
    "            print(\"width must be greater than 0.\")\n",
    "            "
   ]
  },
  {
   "cell_type": "code",
   "execution_count": 41,
   "id": "f16b419d-c611-46ff-b6e2-893b39f46541",
   "metadata": {},
   "outputs": [
    {
     "ename": "TypeError",
     "evalue": "Rectangle.__init__() got an unexpected keyword argument 'width'",
     "output_type": "error",
     "traceback": [
      "\u001b[0;31m---------------------------------------------------------------------------\u001b[0m",
      "\u001b[0;31mTypeError\u001b[0m                                 Traceback (most recent call last)",
      "Cell \u001b[0;32mIn[41], line 1\u001b[0m\n\u001b[0;32m----> 1\u001b[0m rectangle \u001b[38;5;241m=\u001b[39m \u001b[43mRectangle\u001b[49m\u001b[43m(\u001b[49m\u001b[43mwidth\u001b[49m\u001b[38;5;241;43m=\u001b[39;49m\u001b[43m \u001b[49m\u001b[38;5;241;43m5\u001b[39;49m\u001b[43m,\u001b[49m\u001b[43mheight\u001b[49m\u001b[38;5;241;43m=\u001b[39;49m\u001b[38;5;241;43m8\u001b[39;49m\u001b[43m)\u001b[49m\n",
      "\u001b[0;31mTypeError\u001b[0m: Rectangle.__init__() got an unexpected keyword argument 'width'"
     ]
    }
   ],
   "source": [
    "rectangle = Rectangle(width= 5,height=8)"
   ]
  },
  {
   "cell_type": "code",
   "execution_count": 42,
   "id": "20841664-94fc-4ea2-851e-aca4d3a7a71e",
   "metadata": {},
   "outputs": [
    {
     "ename": "NameError",
     "evalue": "name 'rectangle' is not defined",
     "output_type": "error",
     "traceback": [
      "\u001b[0;31m---------------------------------------------------------------------------\u001b[0m",
      "\u001b[0;31mNameError\u001b[0m                                 Traceback (most recent call last)",
      "Cell \u001b[0;32mIn[42], line 1\u001b[0m\n\u001b[0;32m----> 1\u001b[0m \u001b[38;5;28mprint\u001b[39m(\u001b[38;5;124m\"\u001b[39m\u001b[38;5;124mwidth\u001b[39m\u001b[38;5;124m\"\u001b[39m,\u001b[43mrectangle\u001b[49m\u001b[38;5;241m.\u001b[39mget_width())\n",
      "\u001b[0;31mNameError\u001b[0m: name 'rectangle' is not defined"
     ]
    }
   ],
   "source": [
    "print(\"width\",rectangle.get_width())"
   ]
  },
  {
   "cell_type": "code",
   "execution_count": 43,
   "id": "49a106b8-6fb3-4625-aa81-dd64308c7769",
   "metadata": {},
   "outputs": [],
   "source": [
    "class Animal:\n",
    "    def make_sound(self):\n",
    "        return \"Generic animal sound\""
   ]
  },
  {
   "cell_type": "code",
   "execution_count": 44,
   "id": "b888360b-56bc-4c63-bd05-be003c342f4e",
   "metadata": {},
   "outputs": [],
   "source": [
    "class Dog(Animal):\n",
    "    def make_sound(self):\n",
    "        return \"Barki! Barki!\""
   ]
  },
  {
   "cell_type": "code",
   "execution_count": 45,
   "id": "9d427cb5-0c0d-4aa9-9c11-3fe7400d540c",
   "metadata": {},
   "outputs": [],
   "source": [
    "class Cat(Animal):\n",
    "    def make_sound(self):\n",
    "        return \"meow\""
   ]
  },
  {
   "cell_type": "code",
   "execution_count": 46,
   "id": "e475f06b-f7c9-40aa-b7c1-70fc23ea3fc8",
   "metadata": {},
   "outputs": [],
   "source": [
    "genric_animal = Animal()\n",
    "dog = Dog()\n",
    "cat = Cat()"
   ]
  },
  {
   "cell_type": "code",
   "execution_count": 47,
   "id": "53b7d106-47b4-4b5f-98d6-76089dfc22e3",
   "metadata": {},
   "outputs": [
    {
     "name": "stdout",
     "output_type": "stream",
     "text": [
      "Generic Animal Sound: Generic animal sound\n"
     ]
    }
   ],
   "source": [
    "print(\"Generic Animal Sound:\",genric_animal.make_sound())"
   ]
  },
  {
   "cell_type": "code",
   "execution_count": 48,
   "id": "0c0bc451-74e3-469c-8c51-62c773ae3653",
   "metadata": {},
   "outputs": [
    {
     "ename": "AttributeError",
     "evalue": "'Dog' object has no attribute 'make'",
     "output_type": "error",
     "traceback": [
      "\u001b[0;31m---------------------------------------------------------------------------\u001b[0m",
      "\u001b[0;31mAttributeError\u001b[0m                            Traceback (most recent call last)",
      "Cell \u001b[0;32mIn[48], line 1\u001b[0m\n\u001b[0;32m----> 1\u001b[0m \u001b[38;5;28mprint\u001b[39m(\u001b[38;5;124m\"\u001b[39m\u001b[38;5;124mDog Sound\u001b[39m\u001b[38;5;124m\"\u001b[39m,\u001b[43mdog\u001b[49m\u001b[38;5;241;43m.\u001b[39;49m\u001b[43mmake\u001b[49m\u001b[38;5;241m-\u001b[39msound())\n",
      "\u001b[0;31mAttributeError\u001b[0m: 'Dog' object has no attribute 'make'"
     ]
    }
   ],
   "source": [
    "print(\"Dog Sound\",dog.make.sound())"
   ]
  },
  {
   "cell_type": "code",
   "execution_count": null,
   "id": "1964f376-7630-4302-8527-20cad830528e",
   "metadata": {},
   "outputs": [],
   "source": []
  }
 ],
 "metadata": {
  "kernelspec": {
   "display_name": "Python 3 (ipykernel)",
   "language": "python",
   "name": "python3"
  },
  "language_info": {
   "codemirror_mode": {
    "name": "ipython",
    "version": 3
   },
   "file_extension": ".py",
   "mimetype": "text/x-python",
   "name": "python",
   "nbconvert_exporter": "python",
   "pygments_lexer": "ipython3",
   "version": "3.10.8"
  }
 },
 "nbformat": 4,
 "nbformat_minor": 5
}
